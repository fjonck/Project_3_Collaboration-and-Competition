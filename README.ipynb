{
 "cells": [
  {
   "cell_type": "markdown",
   "metadata": {},
   "source": [
    "# Project 1: Navigation"
   ]
  },
  {
   "cell_type": "markdown",
   "metadata": {},
   "source": [
    "## Introduction"
   ]
  },
  {
   "cell_type": "markdown",
   "metadata": {},
   "source": [
    "#### The Unity environment\n",
    "In this project we are solving the \"Tennis\" environment using the open-source Unity plugin **Unity Machine Learning Agents (ML-Agents)**. The main use-case of those environments is to use trained agents for multiple purposes. But we are using it for designing, training and evaluating the performance of our own agent. "
   ]
  },
  {
   "cell_type": "markdown",
   "metadata": {},
   "source": [
    "#### The game and the rewards\n",
    "The goal in the environment \"Tennis\" is to keep the ball in play by the two rackets. This goal is definined by the reward rule +0.1 for hitting the ball over the net and -0.01 for hitting the ball out of bounds or letting the ball hit the ground. "
   ]
  },
  {
   "cell_type": "markdown",
   "metadata": {},
   "source": [
    "![Banana Collector example](https://video.udacity-data.com/topher/2018/May/5af7955a_tennis/tennis.png)"
   ]
  },
  {
   "cell_type": "markdown",
   "metadata": {},
   "source": [
    "#### The action and state space\n",
    "The continuous action space is a 2-dimensional vector, each entry between -1 and 1 and corresponding to the movement towards or away from the net, and jumping. The state space consists of three frames of the position and velocity of the ball and racket. Each frame has 8 dimensions which makes the state-space 24-dimensional."
   ]
  },
  {
   "cell_type": "markdown",
   "metadata": {},
   "source": [
    "#### The instructions for solving the environment\n",
    "The environment is considered to be solved after having achieved an average score of 0.5 in 100 consecutive episodes. "
   ]
  },
  {
   "cell_type": "markdown",
   "metadata": {},
   "source": [
    "#### The instructions for installing the environment\n",
    "1. Clone the repository https://github.com/fjonck/Project_3_Collaboration_and_Competition\n",
    "2. Open the notebook Tennis.ipynb with Jupyter Notebook\n",
    "3. In the menu, click on Cell -> Run All\n",
    "4. Enjoy watching the Tennis Agent learn :)"
   ]
  }
 ],
 "metadata": {
  "kernelspec": {
   "display_name": "Python 3",
   "language": "python",
   "name": "python3"
  },
  "language_info": {
   "codemirror_mode": {
    "name": "ipython",
    "version": 3
   },
   "file_extension": ".py",
   "mimetype": "text/x-python",
   "name": "python",
   "nbconvert_exporter": "python",
   "pygments_lexer": "ipython3",
   "version": "3.6.3"
  }
 },
 "nbformat": 4,
 "nbformat_minor": 2
}
