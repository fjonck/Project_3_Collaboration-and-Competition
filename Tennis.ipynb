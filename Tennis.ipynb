{
 "cells": [
  {
   "cell_type": "markdown",
   "metadata": {},
   "source": [
    "# Collaboration and Competition\n",
    "\n",
    "---\n",
    "\n",
    "You are welcome to use this coding environment to train your agent for the project.  Follow the instructions below to get started!\n",
    "\n",
    "### 1. Start the Environment\n",
    "\n",
    "Run the next code cell to install a few packages.  This line will take a few minutes to run!"
   ]
  },
  {
   "cell_type": "code",
   "execution_count": 1,
   "metadata": {},
   "outputs": [
    {
     "name": "stdout",
     "output_type": "stream",
     "text": [
      "\u001b[31mtensorflow 1.7.1 has requirement numpy>=1.13.3, but you'll have numpy 1.12.1 which is incompatible.\u001b[0m\r\n",
      "\u001b[31mipython 6.5.0 has requirement prompt-toolkit<2.0.0,>=1.0.15, but you'll have prompt-toolkit 3.0.5 which is incompatible.\u001b[0m\r\n"
     ]
    }
   ],
   "source": [
    "!pip -q install ./python"
   ]
  },
  {
   "cell_type": "markdown",
   "metadata": {},
   "source": [
    "The environment is already saved in the Workspace and can be accessed at the file path provided below. "
   ]
  },
  {
   "cell_type": "code",
   "execution_count": 2,
   "metadata": {},
   "outputs": [
    {
     "name": "stderr",
     "output_type": "stream",
     "text": [
      "INFO:unityagents:\n",
      "'Academy' started successfully!\n",
      "Unity Academy name: Academy\n",
      "        Number of Brains: 1\n",
      "        Number of External Brains : 1\n",
      "        Lesson number : 0\n",
      "        Reset Parameters :\n",
      "\t\t\n",
      "Unity brain name: TennisBrain\n",
      "        Number of Visual Observations (per agent): 0\n",
      "        Vector Observation space type: continuous\n",
      "        Vector Observation space size (per agent): 8\n",
      "        Number of stacked Vector Observation: 3\n",
      "        Vector Action space type: continuous\n",
      "        Vector Action space size (per agent): 2\n",
      "        Vector Action descriptions: , \n"
     ]
    }
   ],
   "source": [
    "from unityagents import UnityEnvironment\n",
    "import numpy as np\n",
    "\n",
    "env = UnityEnvironment(file_name=\"/data/Tennis_Linux_NoVis/Tennis\")"
   ]
  },
  {
   "cell_type": "markdown",
   "metadata": {},
   "source": [
    "Environments contain **_brains_** which are responsible for deciding the actions of their associated agents. Here we check for the first brain available, and set it as the default brain we will be controlling from Python."
   ]
  },
  {
   "cell_type": "code",
   "execution_count": 3,
   "metadata": {},
   "outputs": [],
   "source": [
    "# get the default brain\n",
    "brain_name = env.brain_names[0]\n",
    "brain = env.brains[brain_name]"
   ]
  },
  {
   "cell_type": "markdown",
   "metadata": {},
   "source": [
    "### 2. Examine the State and Action Spaces\n",
    "\n",
    "Run the code cell below to print some information about the environment."
   ]
  },
  {
   "cell_type": "code",
   "execution_count": 4,
   "metadata": {},
   "outputs": [
    {
     "name": "stdout",
     "output_type": "stream",
     "text": [
      "Number of agents: 2\n",
      "Size of each action: 2\n",
      "There are 2 agents. Each observes a state with length: 24\n",
      "The state for the first agent looks like: [ 0.          0.          0.          0.          0.          0.          0.\n",
      "  0.          0.          0.          0.          0.          0.          0.\n",
      "  0.          0.         -6.65278625 -1.5        -0.          0.\n",
      "  6.83172083  6.         -0.          0.        ]\n",
      "The state for the second agent looks like: [ 0.          0.          0.          0.          0.          0.          0.\n",
      "  0.          0.          0.          0.          0.          0.          0.\n",
      "  0.          0.         -6.4669857  -1.5         0.          0.\n",
      " -6.83172083  6.          0.          0.        ]\n"
     ]
    }
   ],
   "source": [
    "# reset the environment\n",
    "env_info = env.reset(train_mode=True)[brain_name]\n",
    "\n",
    "# number of agents \n",
    "num_agents = len(env_info.agents)\n",
    "print('Number of agents:', num_agents)\n",
    "\n",
    "# size of each action\n",
    "action_size = brain.vector_action_space_size\n",
    "print('Size of each action:', action_size)\n",
    "\n",
    "# examine the state space \n",
    "states = env_info.vector_observations\n",
    "state_size = states.shape[1]\n",
    "print('There are {} agents. Each observes a state with length: {}'.format(states.shape[0], state_size))\n",
    "print('The state for the first agent looks like:', states[0])\n",
    "print('The state for the second agent looks like:', states[1])"
   ]
  },
  {
   "cell_type": "markdown",
   "metadata": {},
   "source": [
    "### 3. Take Random Actions in the Environment\n",
    "\n",
    "In the next code cell, you will learn how to use the Python API to control the agent and receive feedback from the environment.\n",
    "\n",
    "Note that **in this coding environment, you will not be able to watch the agents while they are training**, and you should set `train_mode=True` to restart the environment."
   ]
  },
  {
   "cell_type": "raw",
   "metadata": {
    "scrolled": true
   },
   "source": [
    "for i in range(5):                                         # play game for 5 episodes\n",
    "    env_info = env.reset(train_mode=False)[brain_name]     # reset the environment    \n",
    "    states = env_info.vector_observations                  # get the current state (for each agent)\n",
    "    scores = np.zeros(num_agents)                          # initialize the score (for each agent)\n",
    "    counter = 0\n",
    "    while True:\n",
    "        counter += 1\n",
    "        actions = np.random.randn(num_agents, action_size) # select an action (for each agent)\n",
    "        actions = np.clip(actions, -1, 1)                  # all actions between -1 and 1\n",
    "        env_info = env.step(actions)[brain_name]           # send all actions to tne environment\n",
    "        next_states = env_info.vector_observations         # get next state (for each agent)\n",
    "        rewards = env_info.rewards                         # get reward (for each agent)\n",
    "        dones = env_info.local_done                        # see if episode finished\n",
    "        scores += env_info.rewards                         # update the score (for each agent)\n",
    "        states = next_states                               # roll over states to next time step\n",
    "        if np.any(dones):                                  # exit loop if episode finished\n",
    "            break\n",
    "    print('Total score (averaged over agents) this episode: {}'.format(np.mean(scores)))\n",
    "    print('Timesteps played: ',counter)"
   ]
  },
  {
   "cell_type": "markdown",
   "metadata": {},
   "source": [
    "When finished, you can close the environment."
   ]
  },
  {
   "cell_type": "raw",
   "metadata": {},
   "source": [
    "env.close()"
   ]
  },
  {
   "cell_type": "markdown",
   "metadata": {},
   "source": [
    "### 4. It's Your Turn!\n",
    "\n",
    "Now it's your turn to train your own agent to solve the environment!  A few **important notes**:\n",
    "- When training the environment, set `train_mode=True`, so that the line for resetting the environment looks like the following:\n",
    "```python\n",
    "env_info = env.reset(train_mode=True)[brain_name]\n",
    "```\n",
    "- To structure your work, you're welcome to work directly in this Jupyter notebook, or you might like to start over with a new file!  You can see the list of files in the workspace by clicking on **_Jupyter_** in the top left corner of the notebook.\n",
    "- In this coding environment, you will not be able to watch the agents while they are training.  However, **_after training the agents_**, you can download the saved model weights to watch the agents on your own machine! "
   ]
  },
  {
   "cell_type": "markdown",
   "metadata": {},
   "source": [
    "### 5. Import libaries"
   ]
  },
  {
   "cell_type": "code",
   "execution_count": 5,
   "metadata": {},
   "outputs": [],
   "source": [
    "import numpy as np\n",
    "import random\n",
    "import copy\n",
    "from collections import namedtuple, deque\n",
    "\n",
    "import torch\n",
    "import torch.nn as nn\n",
    "import torch.nn.functional as F\n",
    "import torch.optim as optim\n",
    "\n",
    "import matplotlib.pyplot as plt\n",
    "%matplotlib inline"
   ]
  },
  {
   "cell_type": "markdown",
   "metadata": {},
   "source": [
    "### 6. The Model"
   ]
  },
  {
   "cell_type": "code",
   "execution_count": 6,
   "metadata": {},
   "outputs": [],
   "source": [
    "def hidden_init(layer):\n",
    "    fan_in = layer.weight.data.size()[0]\n",
    "    lim = 1. / np.sqrt(fan_in)\n",
    "    return (-lim, lim)\n",
    "\n",
    "class Actor(nn.Module):\n",
    "    \"\"\"Actor (Policy) Model.\"\"\"\n",
    "\n",
    "    def __init__(self, state_size, action_size, seed, fc1_units=512, fc2_units=256):\n",
    "        \"\"\"Initialize parameters and build model.\n",
    "        Params\n",
    "        ======\n",
    "            state_size (int): Dimension of each state\n",
    "            action_size (int): Dimension of each action\n",
    "            seed (int): Random seed\n",
    "            fc1_units (int): Number of nodes in first hidden layer\n",
    "            fc2_units (int): Number of nodes in second hidden layer\n",
    "        \"\"\"\n",
    "        super(Actor, self).__init__()\n",
    "        self.seed = torch.manual_seed(seed)\n",
    "        self.fc1 = nn.Linear(state_size, fc1_units)\n",
    "        self.bn1 = nn.BatchNorm1d(fc1_units)\n",
    "        self.fc2 = nn.Linear(fc1_units, fc2_units)\n",
    "        self.bn2 = nn.BatchNorm1d(fc2_units)\n",
    "        self.fc3 = nn.Linear(fc2_units, action_size)\n",
    "        self.reset_parameters()\n",
    "\n",
    "    def reset_parameters(self):\n",
    "        self.fc1.weight.data.uniform_(*hidden_init(self.fc1))\n",
    "        self.fc2.weight.data.uniform_(*hidden_init(self.fc2))\n",
    "        self.fc3.weight.data.uniform_(-3e-3, 3e-3)\n",
    "\n",
    "    def forward(self, state):\n",
    "        \"\"\"Build an actor (policy) network that maps states -> actions.\"\"\"\n",
    "        x = F.relu(self.bn1(self.fc1(state)))\n",
    "        x = F.relu(self.bn2(self.fc2(x)))\n",
    "        return F.tanh(self.fc3(x))\n",
    "\n",
    "\n",
    "class Critic(nn.Module):\n",
    "    \"\"\"Critic (Value) Model.\"\"\"\n",
    "\n",
    "    def __init__(self, state_size, action_size, seed, fcs1_units=512, fc2_units=256):\n",
    "        \"\"\"Initialize parameters and build model.\n",
    "        Params\n",
    "        ======\n",
    "            state_size (int): Dimension of each state\n",
    "            action_size (int): Dimension of each action\n",
    "            seed (int): Random seed\n",
    "            fcs1_units (int): Number of nodes in the first hidden layer\n",
    "            fc2_units (int): Number of nodes in the second hidden layer\n",
    "        \"\"\"\n",
    "        super(Critic, self).__init__()\n",
    "        self.seed = torch.manual_seed(seed)\n",
    "        self.fcs1 = nn.Linear(state_size, fcs1_units)\n",
    "        self.bn1 = nn.BatchNorm1d(fcs1_units)\n",
    "        self.fc2 = nn.Linear(fcs1_units+action_size, fc2_units)\n",
    "        self.fc3 = nn.Linear(fc2_units, 1)\n",
    "        self.reset_parameters()\n",
    "\n",
    "    def reset_parameters(self):\n",
    "        self.fcs1.weight.data.uniform_(*hidden_init(self.fcs1))\n",
    "        self.fc2.weight.data.uniform_(*hidden_init(self.fc2))\n",
    "        self.fc3.weight.data.uniform_(-3e-3, 3e-3)\n",
    "\n",
    "    def forward(self, state, action):\n",
    "        \"\"\"Build a critic (value) network that maps (state, action) pairs -> Q-values.\"\"\"\n",
    "        xs = F.relu(self.bn1(self.fcs1(state)))\n",
    "        x = torch.cat((xs, action), dim=1)\n",
    "        x = F.relu(self.fc2(x))\n",
    "        return self.fc3(x)"
   ]
  },
  {
   "cell_type": "markdown",
   "metadata": {},
   "source": [
    "### 7. The Agent"
   ]
  },
  {
   "cell_type": "code",
   "execution_count": 7,
   "metadata": {},
   "outputs": [],
   "source": [
    "BUFFER_SIZE = int(1e6)  # replay buffer size int(1e5)\n",
    "BATCH_SIZE = 512        # minibatch size 128\n",
    "GAMMA = 0.99            # discount factor\n",
    "TAU = 1e-1              # for soft update of target parameters 1e-1 \n",
    "LR_ACTOR = 1e-4         # learning rate of the actor 1e-4\n",
    "LR_CRITIC = 1e-3        # learning rate of the critic 1e-3\n",
    "WEIGHT_DECAY = 0        # L2 weight decay 0\n",
    "UPDATE_EVERY = 4        # how often to update the network 4\n",
    "UPDATE_STEPS = 1        # how many times to update the network in a row 1\n",
    "\n",
    "device = torch.device(\"cuda:0\" if torch.cuda.is_available() else \"cpu\")\n",
    "\n",
    "class Agent():\n",
    "    \"\"\"Interacts with and learns from the environment.\"\"\"\n",
    "    \n",
    "    def __init__(self, state_size, action_size, random_seed):\n",
    "        \"\"\"Initialize an Agent object.\n",
    "        \n",
    "        Params\n",
    "        ======\n",
    "            state_size (int): dimension of each state\n",
    "            action_size (int): dimension of each action\n",
    "            random_seed (int): random seed\n",
    "        \"\"\"\n",
    "        self.state_size = state_size\n",
    "        self.action_size = action_size\n",
    "        self.seed = random.seed(random_seed)\n",
    "\n",
    "        # Actor Network (w/ Target Network)\n",
    "        self.actor_local = Actor(state_size, action_size, random_seed).to(device)\n",
    "        self.actor_target = Actor(state_size, action_size, random_seed).to(device)\n",
    "        self.actor_optimizer = optim.Adam(self.actor_local.parameters(), lr=LR_ACTOR)\n",
    "\n",
    "        # Critic Network (w/ Target Network)\n",
    "        self.critic_local = Critic(state_size, action_size, random_seed).to(device)\n",
    "        self.critic_target = Critic(state_size, action_size, random_seed).to(device)\n",
    "        self.critic_optimizer = optim.Adam(self.critic_local.parameters(), lr=LR_CRITIC, weight_decay=WEIGHT_DECAY)\n",
    "\n",
    "        # Noise process\n",
    "        # self.noise = OUNoise(action_size, random_seed)\n",
    "\n",
    "        # Replay memory\n",
    "        self.memory = ReplayBuffer(action_size, BUFFER_SIZE, BATCH_SIZE, random_seed)\n",
    "        # Initialize time step (for updating every UPDATE_EVERY steps)\n",
    "        self.t_step = 0\n",
    "    \n",
    "    def step(self, state, action, reward, next_state, done):\n",
    "        \"\"\"Save experience in replay memory, and use random sample from buffer to learn.\"\"\"\n",
    "        # Save experience / reward\n",
    "        self.memory.add(state, action, reward, next_state, done)\n",
    "        \n",
    "        # Learn every UPDATE_EVERY time steps.\n",
    "        self.t_step = (self.t_step + 1) % UPDATE_EVERY\n",
    "        if self.t_step == 0:\n",
    "            # Learn, if enough samples are available in memory\n",
    "            if len(self.memory) > BATCH_SIZE:\n",
    "                for _ in range(UPDATE_STEPS):\n",
    "                    experiences = self.memory.sample()\n",
    "                    self.learn(experiences, GAMMA)\n",
    "\n",
    "    def act(self, state, add_noise=True):\n",
    "        \"\"\"Returns actions for given state as per current policy.\"\"\"\n",
    "        state = torch.from_numpy(state).float().view(1,-1).to(device)\n",
    "        self.actor_local.eval()\n",
    "        with torch.no_grad():\n",
    "            action = self.actor_local(state).cpu().data.numpy()\n",
    "        self.actor_local.train()\n",
    "        if add_noise:\n",
    "            #action += self.noise.sample()\n",
    "            action += np.random.normal(0, 0.2, self.action_size)\n",
    "        return np.clip(action, -1, 1)\n",
    "\n",
    "    #def reset(self):\n",
    "        #self.noise.reset()\n",
    "\n",
    "    def learn(self, experiences, gamma):\n",
    "        \"\"\"Update policy and value parameters using given batch of experience tuples.\n",
    "        Q_targets = r + γ * critic_target(next_state, actor_target(next_state))\n",
    "        where:\n",
    "            actor_target(state) -> action\n",
    "            critic_target(state, action) -> Q-value\n",
    "        Params\n",
    "        ======\n",
    "            experiences (Tuple[torch.Tensor]): tuple of (s, a, r, s', done) tuples \n",
    "            gamma (float): discount factor\n",
    "        \"\"\"\n",
    "        states, actions, rewards, next_states, dones = experiences\n",
    "\n",
    "        # ---------------------------- update critic ---------------------------- #\n",
    "        # Get predicted next-state actions and Q values from target models\n",
    "        actions_next = self.actor_target(next_states)\n",
    "        Q_targets_next = self.critic_target(next_states, actions_next)\n",
    "        # Compute Q targets for current states (y_i)\n",
    "        Q_targets = rewards + (gamma * Q_targets_next * (1 - dones))\n",
    "        # Compute critic loss\n",
    "        Q_expected = self.critic_local(states, actions)\n",
    "        critic_loss = F.mse_loss(Q_expected, Q_targets)\n",
    "        # Minimize the loss\n",
    "        self.critic_optimizer.zero_grad()\n",
    "        critic_loss.backward()\n",
    "        torch.nn.utils.clip_grad_norm_(self.critic_local.parameters(), 1)\n",
    "        self.critic_optimizer.step()\n",
    "\n",
    "        # ---------------------------- update actor ---------------------------- #\n",
    "        # Compute actor loss\n",
    "        actions_pred = self.actor_local(states)\n",
    "        actor_loss = -self.critic_local(states, actions_pred).mean()\n",
    "        # Minimize the loss\n",
    "        self.actor_optimizer.zero_grad()\n",
    "        actor_loss.backward()\n",
    "        self.actor_optimizer.step()\n",
    "\n",
    "        # ----------------------- update target networks ----------------------- #\n",
    "        self.soft_update(self.critic_local, self.critic_target, TAU)\n",
    "        self.soft_update(self.actor_local, self.actor_target, TAU)                     \n",
    "\n",
    "    def soft_update(self, local_model, target_model, tau):\n",
    "        \"\"\"Soft update model parameters.\n",
    "        θ_target = τ*θ_local + (1 - τ)*θ_target\n",
    "        Params\n",
    "        ======\n",
    "            local_model: PyTorch model (weights will be copied from)\n",
    "            target_model: PyTorch model (weights will be copied to)\n",
    "            tau (float): interpolation parameter \n",
    "        \"\"\"\n",
    "        for target_param, local_param in zip(target_model.parameters(), local_model.parameters()):\n",
    "            target_param.data.copy_(tau*local_param.data + (1.0-tau)*target_param.data)\n",
    "\n",
    "# class OUNoise:\n",
    "#     \"\"\"Ornstein-Uhlenbeck process.\"\"\"\n",
    "\n",
    "#     def __init__(self, size, seed, mu=0., theta=0.15, sigma=0.2):\n",
    "#         \"\"\"Initialize parameters and noise process.\"\"\"\n",
    "#         self.mu = mu * np.ones(size)\n",
    "#         self.theta = theta\n",
    "#         self.sigma = sigma\n",
    "#         self.seed = random.seed(seed)\n",
    "#         self.reset()\n",
    "\n",
    "#     def reset(self):\n",
    "#         \"\"\"Reset the internal state (= noise) to mean (mu).\"\"\"\n",
    "#         self.state = copy.copy(self.mu)\n",
    "\n",
    "#     def sample(self):\n",
    "#         \"\"\"Update internal state and return it as a noise sample.\"\"\"\n",
    "#         x = self.state\n",
    "#         dx = self.theta * (self.mu - x) + self.sigma * np.array([random.random() for i in range(len(x))])\n",
    "#         self.state = x + dx\n",
    "#         return self.state\n",
    "\n",
    "class ReplayBuffer:\n",
    "    \"\"\"Fixed-size buffer to store experience tuples.\"\"\"\n",
    "\n",
    "    def __init__(self, action_size, buffer_size, batch_size, seed):\n",
    "        \"\"\"Initialize a ReplayBuffer object.\n",
    "        Params\n",
    "        ======\n",
    "            buffer_size (int): maximum size of buffer\n",
    "            batch_size (int): size of each training batch\n",
    "        \"\"\"\n",
    "        self.action_size = action_size\n",
    "        self.memory = deque(maxlen=buffer_size)  # internal memory (deque)\n",
    "        self.batch_size = batch_size\n",
    "        self.experience = namedtuple(\"Experience\", field_names=[\"state\", \"action\", \"reward\", \"next_state\", \"done\"])\n",
    "        self.seed = random.seed(seed)\n",
    "    \n",
    "    def add(self, state, action, reward, next_state, done):\n",
    "        \"\"\"Add a new experience to memory.\"\"\"\n",
    "        e = self.experience(state, action, reward, next_state, done)\n",
    "        self.memory.append(e)\n",
    "    \n",
    "    def sample(self):\n",
    "        \"\"\"Randomly sample a batch of experiences from memory.\"\"\"\n",
    "        experiences = random.sample(self.memory, k=self.batch_size)\n",
    "\n",
    "        states = torch.from_numpy(np.vstack([e.state for e in experiences if e is not None])).float().to(device)\n",
    "        actions = torch.from_numpy(np.vstack([e.action for e in experiences if e is not None])).float().to(device)\n",
    "        rewards = torch.from_numpy(np.vstack([e.reward for e in experiences if e is not None])).float().to(device)\n",
    "        next_states = torch.from_numpy(np.vstack([e.next_state for e in experiences if e is not None])).float().to(device)\n",
    "        dones = torch.from_numpy(np.vstack([e.done for e in experiences if e is not None]).astype(np.uint8)).float().to(device)\n",
    "\n",
    "        return (states, actions, rewards, next_states, dones)\n",
    "\n",
    "    def __len__(self):\n",
    "        \"\"\"Return the current size of internal memory.\"\"\"\n",
    "        return len(self.memory)"
   ]
  },
  {
   "cell_type": "markdown",
   "metadata": {},
   "source": [
    "### 8. The DDPG Algorithm"
   ]
  },
  {
   "cell_type": "code",
   "execution_count": 8,
   "metadata": {},
   "outputs": [
    {
     "name": "stdout",
     "output_type": "stream",
     "text": [
      "Episode 100\tAverage Score: 0.03\tScore: 0.09\tAverage Timesteps: 19.20\tTimesteps: 30\n",
      "Episode 200\tAverage Score: 0.15\tScore: 0.00\tAverage Timesteps: 63.03\tTimesteps: 141\n",
      "Episode 247\tAverage Score: 0.51\tScore: 2.60\tAverage Timesteps: 198.47\tTimesteps: 1000\n",
      "Environment solved in 247 episodes!\tAverage Score: 0.51\n",
      "Episode 300\tAverage Score: 0.78\tScore: 0.40\tAverage Timesteps: 303.66\tTimesteps: 1610\n",
      "Episode 400\tAverage Score: 1.10\tScore: 1.59\tAverage Timesteps: 425.02\tTimesteps: 5960\n",
      "Episode 500\tAverage Score: 1.47\tScore: 0.40\tAverage Timesteps: 563.45\tTimesteps: 1490\n"
     ]
    },
    {
     "data": {
      "image/png": "[encoded data removed]",
      "text/plain": [
       "<matplotlib.figure.Figure at 0x7f1e7102d8d0>"
      ]
     },
     "metadata": {
      "needs_background": "light"
     },
     "output_type": "display_data"
    }
   ],
   "source": [
    "def ddpg(n_episodes=1000, max_t=1000, print_every=100):\n",
    "    scores_deque = deque(maxlen=print_every)\n",
    "    timesteps_deque = deque(maxlen=print_every)\n",
    "    scores = []\n",
    "    solved = 0\n",
    "    for i_episode in range(1, n_episodes+1):\n",
    "        # state = env.reset()\n",
    "        env_info = env.reset(train_mode=True)[brain_name]\n",
    "        states = env_info.vector_observations\n",
    "        state_agent0 = states[0]\n",
    "        state_agent1 = states[1]\n",
    "        #agent.reset()\n",
    "        score_agent0 = 0\n",
    "        score_agent1 = 0\n",
    "        timesteps = 0\n",
    "        for t in range(max_t): \n",
    "            action_agent0 = agent.act(state_agent0)\n",
    "            action_agent1 = agent.act(state_agent1)\n",
    "            # next_state, reward, done, _ = env.step(action)\n",
    "            action = np.concatenate([action_agent0, action_agent1])\n",
    "            env_info = env.step(action)[brain_name]\n",
    "            states = env_info.vector_observations\n",
    "            next_state_agent0 = states[0]\n",
    "            next_state_agent1 = states[1]\n",
    "            #print('next_state: ', next_state)\n",
    "            rewards = env_info.rewards\n",
    "            reward_agent0 = rewards[0]\n",
    "            reward_agent1 = rewards[1]\n",
    "            #print('reward: ', reward)\n",
    "            dones = env_info.local_done\n",
    "            done_agent0 = dones[0]\n",
    "            done_agent1 = dones[1]\n",
    "            #print('done: ', done)\n",
    "            agent.step(state_agent0, action_agent0, reward_agent0, next_state_agent0, done_agent0)\n",
    "            agent.step(state_agent1, action_agent1, reward_agent1, next_state_agent1, done_agent1)\n",
    "            state_agent0 = next_state_agent0\n",
    "            state_agent1 = next_state_agent1\n",
    "            score_agent0 += reward_agent0\n",
    "            score_agent1 += reward_agent1\n",
    "            timesteps += 1\n",
    "            if np.any(dones):\n",
    "                break \n",
    "        score = max(score_agent0, score_agent1)\n",
    "        scores_deque.append(score)\n",
    "        scores.append(score)\n",
    "        timesteps_deque.append(timesteps)\n",
    "        print('\\rEpisode {}\\tAverage Score: {:.2f}\\tScore: {:.2f}\\tAverage Timesteps: {:.2f}\\tTimesteps: {}'.format(i_episode, np.mean(scores_deque), score, np.mean(timesteps_deque), timesteps), end=\"\")\n",
    "        #torch.save(agent.actor_local.state_dict(), 'checkpoint_actor.pth')\n",
    "        #torch.save(agent.critic_local.state_dict(), 'checkpoint_critic.pth')\n",
    "        if i_episode % print_every == 0:\n",
    "            print('\\rEpisode {}\\tAverage Score: {:.2f}\\tScore: {:.2f}\\tAverage Timesteps: {:.2f}\\tTimesteps: {}'.format(i_episode, np.mean(scores_deque), score, np.mean(timesteps_deque), timesteps))\n",
    "        if (np.mean(scores_deque)>=0.5) and (solved == 0):\n",
    "            solved = 1\n",
    "            print('\\nEnvironment solved in {:d} episodes!\\tAverage Score: {:.2f}'.format(i_episode, np.mean(scores_deque)))\n",
    "            torch.save(agent.actor_local.state_dict(), 'checkpoint_actor.pth')\n",
    "            torch.save(agent.critic_local.state_dict(), 'checkpoint_critic.pth')\n",
    "            \n",
    "    torch.save(agent.actor_local.state_dict(), 'checkpoint_actor.pth')\n",
    "    torch.save(agent.critic_local.state_dict(), 'checkpoint_critic.pth')\n",
    "    return scores\n",
    "\n",
    "agent = Agent(state_size=state_size, action_size=action_size, random_seed=2)\n",
    "scores = ddpg(n_episodes=500)\n",
    "\n",
    "fig = plt.figure()\n",
    "ax = fig.add_subplot(111)\n",
    "plt.plot(np.arange(1, len(scores)+1), scores)\n",
    "plt.ylabel('Score')\n",
    "plt.xlabel('Episode #')\n",
    "plt.show()"
   ]
  },
  {
   "cell_type": "markdown",
   "metadata": {},
   "source": [
    "### 9. The history of my tries \n",
    "Starting with the initial configuration, the code from the [implementation](https://github.com/fjonck/Project_2_Continuous-Control) of the continuous control project, which uses a DDPG approach to solve the [OpenAI Gym's Tennis environment](https://github.com/Unity-Technologies/ml-agents/blob/master/docs/Learning-Environment-Examples.md#tennis)."
   ]
  },
  {
   "cell_type": "markdown",
   "metadata": {},
   "source": [
    "Episode 100\tAverage Score: 0.00\n",
    "Episode 200\tAverage Score: 0.00\n",
    "Episode 300\tAverage Score: 0.00\n",
    "Episode 400\tAverage Score: 0.01\n",
    "Episode 500\tAverage Score: 0.00\n",
    "Episode 600\tAverage Score: 0.02\n",
    "Episode 700\tAverage Score: 0.00\n",
    "Episode 800\tAverage Score: 0.00\n",
    "Episode 900\tAverage Score: 0.00\n",
    "Episode 1000\tAverage Score: 0.00\n",
    "Episode 1100\tAverage Score: 0.00\n",
    "Episode 1200\tAverage Score: 0.04\n",
    "Episode 1300\tAverage Score: 0.03\n",
    "Episode 1400\tAverage Score: 0.03\n",
    "Episode 1500\tAverage Score: 0.02\n",
    "Episode 1600\tAverage Score: 0.04\n",
    "Episode 1700\tAverage Score: 0.06\n",
    "Episode 1800\tAverage Score: 0.08\n",
    "Episode 1900\tAverage Score: 0.10\n",
    "Episode 2000\tAverage Score: 0.19\n",
    "Episode 2100\tAverage Score: 0.50\n",
    "Episode 2200\tAverage Score: 0.30\n",
    "Episode 2278\tAverage Score: 1.75"
   ]
  },
  {
   "cell_type": "markdown",
   "metadata": {},
   "source": [
    "Network: 256, 128. LR_CRITIC = 1e-4:\n",
    "Episode 100\tAverage Score: 0.02\tTimesteps played: 13\n",
    "Episode 200\tAverage Score: 0.00\tTimesteps played: 13\n",
    "Episode 300\tAverage Score: 0.00\tTimesteps played: 13\n",
    "Episode 400\tAverage Score: 0.00\tTimesteps played: 13\n",
    "Episode 500\tAverage Score: 0.00\tTimesteps played: 13\n",
    "Episode 600\tAverage Score: 0.00\tTimesteps played: 13\n",
    "Episode 700\tAverage Score: 0.00\tTimesteps played: 13\n",
    "Episode 800\tAverage Score: 0.01\tTimesteps played: 13\n",
    "Episode 900\tAverage Score: 0.00\tTimesteps played: 13\n",
    "Episode 1000\tAverage Score: 0.00\tTimesteps played: 13\n",
    "Episode 1100\tAverage Score: 0.01\tTimesteps played: 12\n",
    "Episode 1200\tAverage Score: 0.01\tTimesteps played: 31\n",
    "Episode 1300\tAverage Score: 0.04\tTimesteps played: 14\n",
    "Episode 1400\tAverage Score: 0.07\tTimesteps played: 30\n",
    "Episode 1500\tAverage Score: 0.08\tTimesteps played: 27\n",
    "Episode 1600\tAverage Score: 0.09\tTimesteps played: 30\n",
    "Episode 1700\tAverage Score: 0.12\tTimesteps played: 562\n",
    "Episode 1800\tAverage Score: 0.14\tTimesteps played: 306\n",
    "Episode 1900\tAverage Score: 0.10\tTimesteps played: 32\n",
    "Episode 2000\tAverage Score: 0.11\tTimesteps played: 339\n",
    "Episode 2100\tAverage Score: 0.17\tTimesteps played: 542\n",
    "Episode 2200\tAverage Score: 0.38\tTimesteps played: 180\n",
    "Episode 2230\tAverage Score: 0.51\tTimesteps played: 640\n",
    "Environment solved in 2230 episodes!\tAverage Score: 0.51"
   ]
  },
  {
   "cell_type": "markdown",
   "metadata": {},
   "source": [
    "Network: 512, 256. max_t=1000\n",
    "\n",
    "BUFFER_SIZE = int(1e6)  # replay buffer size int(1e5)\n",
    "BATCH_SIZE = 512        # minibatch size 128\n",
    "GAMMA = 0.99            # discount factor\n",
    "TAU = 1e-3              # for soft update of target parameters\n",
    "LR_ACTOR = 1e-4         # learning rate of the actor 1e-4\n",
    "LR_CRITIC = 1e-3        # learning rate of the critic 1e-3\n",
    "WEIGHT_DECAY = 0        # L2 weight decay 0\n",
    "UPDATE_EVERY = 4        # how often to update the network 4\n",
    "UPDATE_STEPS = 1        # how many times to update the network in a row 1\n",
    "\n",
    "Episode 100\tAverage Score: 0.00\tScore: 0.00\tTimesteps played: 13\n",
    "Episode 200\tAverage Score: 0.01\tScore: 0.00\tTimesteps played: 13\n",
    "Episode 300\tAverage Score: 0.00\tScore: 0.00\tTimesteps played: 13\n",
    "Episode 400\tAverage Score: 0.00\tScore: 0.00\tTimesteps played: 13\n",
    "Episode 500\tAverage Score: 0.00\tScore: 0.00\tTimesteps played: 13\n",
    "Episode 600\tAverage Score: 0.01\tScore: 0.09\tTimesteps played: 29\n",
    "Episode 700\tAverage Score: 0.04\tScore: 0.00\tTimesteps played: 263\n",
    "Episode 800\tAverage Score: 0.05\tScore: 0.10\tTimesteps played: 462\n",
    "Episode 900\tAverage Score: 0.18\tScore: 0.10\tTimesteps played: 550\n",
    "Episode 990\tAverage Score: 0.51\tScore: 2.70\tTimesteps played: 999\n",
    "Environment solved in 990 episodes!\tAverage Score: 0.51\n",
    "Episode 995\tAverage Score: 0.57\tScore: 2.60\tTimesteps played: 999"
   ]
  },
  {
   "cell_type": "markdown",
   "metadata": {},
   "source": [
    "TAU = 1e-1\n",
    "\n",
    "Episode 100\tAverage Score: 0.01\tScore: 0.00\tTimesteps played: 16\n",
    "Episode 200\tAverage Score: 0.23\tScore: 0.10\tTimesteps played: 408\n",
    "Episode 267\tAverage Score: 0.52\tScore: 2.60\tTimesteps played: 999\n",
    "Environment solved in 267 episodes!\tAverage Score: 0.52\n",
    "Episode 271\tAverage Score: 0.57\tScore: 2.60\tTimesteps played: 999"
   ]
  },
  {
   "cell_type": "markdown",
   "metadata": {},
   "source": [
    "TAU = 0.5\n",
    "\n",
    "Episode 100\tAverage Score: 0.03\tScore: 0.00\tAverage Timesteps: 21.34\tTimesteps: 14\n",
    "Episode 200\tAverage Score: 0.09\tScore: 0.10\tAverage Timesteps: 41.71\tTimesteps: 544\n",
    "Episode 300\tAverage Score: 0.20\tScore: 0.20\tAverage Timesteps: 84.50\tTimesteps: 928\n",
    "Episode 400\tAverage Score: 0.34\tScore: 0.60\tAverage Timesteps: 139.79\tTimesteps: 240\n",
    "Episode 462\tAverage Score: 0.51\tScore: 2.10\tAverage Timesteps: 206.02\tTimesteps: 8331\n",
    "Environment solved in 462 episodes!\tAverage Score: 0.51\n",
    "Episode 500\tAverage Score: 0.78\tScore: 2.60\tAverage Timesteps: 306.64\tTimesteps: 1001\n",
    "Episode 600\tAverage Score: 1.18\tScore: 0.20\tAverage Timesteps: 453.93\tTimesteps: 8191\n",
    "Episode 668\tAverage Score: 1.28\tScore: 2.40\tAverage Timesteps: 489.70\tTimesteps: 9091"
   ]
  },
  {
   "cell_type": "markdown",
   "metadata": {},
   "source": [
    "TAU = 1e-1, Network: 512, 512. max_t=10000:\n",
    "Episode 100\tAverage Score: 0.02\tScore: 0.00\tAverage Timesteps: 20.97\tTimesteps: 14\n",
    "Episode 200\tAverage Score: 0.11\tScore: 0.10\tAverage Timesteps: 48.92\tTimesteps: 518\n",
    "Episode 300\tAverage Score: 0.36\tScore: 0.00\tAverage Timesteps: 147.13\tTimesteps: 2301\n",
    "Episode 325\tAverage Score: 0.51\tScore: 2.60\tAverage Timesteps: 202.61\tTimesteps: 1001\n",
    "Environment solved in 325 episodes!\tAverage Score: 0.51\n",
    "Episode 400\tAverage Score: 1.12\tScore: 0.00\tAverage Timesteps: 436.60\tTimesteps: 1421\n",
    "Episode 500\tAverage Score: 1.39\tScore: 1.20\tAverage Timesteps: 531.29\tTimesteps: 4571\n",
    "Episode 600\tAverage Score: 1.68\tScore: 0.79\tAverage Timesteps: 641.33\tTimesteps: 3181\n",
    "Episode 687\tAverage Score: 1.73\tScore: 2.70\tAverage Timesteps: 659.01\tTimesteps: 1001"
   ]
  },
  {
   "cell_type": "markdown",
   "metadata": {},
   "source": [
    "Network: 512, 256. max_t=1000:\n",
    "Episode 100\tAverage Score: 0.02\tScore: 0.00\tAverage Timesteps: 17.52\tTimesteps: 14\n",
    "Episode 200\tAverage Score: 0.07\tScore: 0.09\tAverage Timesteps: 28.05\tTimesteps: 311\n",
    "Episode 300\tAverage Score: 0.09\tScore: 0.10\tAverage Timesteps: 37.17\tTimesteps: 517\n",
    "Episode 400\tAverage Score: 0.24\tScore: 0.00\tAverage Timesteps: 98.25\tTimesteps: 200\n",
    "Episode 493\tAverage Score: 0.51\tScore: 1.80\tAverage Timesteps: 201.82\tTimesteps: 6890\n",
    "Environment solved in 493 episodes!\tAverage Score: 0.51\n",
    "Episode 500\tAverage Score: 0.56\tScore: 0.90\tAverage Timesteps: 218.46\tTimesteps: 358\n",
    "Episode 600\tAverage Score: 1.49\tScore: 2.70\tAverage Timesteps: 569.38\tTimesteps: 1000\n",
    "Episode 640\tAverage Score: 1.61\tScore: 0.70\tAverage Timesteps: 621.01\tTimesteps: 2740"
   ]
  },
  {
   "cell_type": "markdown",
   "metadata": {},
   "source": [
    "Episode 100\tAverage Score: 0.02\tScore: 0.09\tAverage Timesteps: 17.96\tTimesteps: 30\n",
    "Episode 200\tAverage Score: 0.05\tScore: 0.00\tAverage Timesteps: 26.71\tTimesteps: 18\n",
    "Episode 300\tAverage Score: 0.13\tScore: 0.20\tAverage Timesteps: 51.02\tTimesteps: 919\n",
    "Episode 381\tAverage Score: 0.51\tScore: 1.40\tAverage Timesteps: 201.08\tTimesteps: 5500\n",
    "Environment solved in 381 episodes!\tAverage Score: 0.51\n",
    "Episode 385\tAverage Score: 0.55\tScore: 0.50\tAverage Timesteps: 215.26\tTimesteps: 1890"
   ]
  },
  {
   "cell_type": "markdown",
   "metadata": {},
   "source": [
    "Network: 512, 512, LR_CRITIC = 1e-4:\n",
    "\n",
    "Episode 100\tAverage Score: 0.02\tScore: 0.00\tAverage Timesteps: 20.09\tTimesteps: 14\n",
    "Episode 200\tAverage Score: 0.04\tScore: 0.00\tAverage Timesteps: 23.59\tTimesteps: 147\n",
    "Episode 300\tAverage Score: 0.12\tScore: 0.20\tAverage Timesteps: 50.35\tTimesteps: 776\n",
    "Episode 370\tAverage Score: 0.51\tScore: 2.60\tAverage Timesteps: 199.72\tTimesteps: 1000\n",
    "Environment solved in 370 episodes!\tAverage Score: 0.51\n",
    "Episode 400\tAverage Score: 0.99\tScore: 2.60\tAverage Timesteps: 379.94\tTimesteps: 1000"
   ]
  },
  {
   "cell_type": "markdown",
   "metadata": {},
   "source": [
    "Network: 512, 256, LR_CRITIC = 1e-4, max_t=1000:\n",
    "\n",
    "Episode 100\tAverage Score: 0.02\tScore: 0.10\tAverage Timesteps: 18.67\tTimesteps: 41\n",
    "Episode 200\tAverage Score: 0.34\tScore: 0.20\tAverage Timesteps: 129.63\tTimesteps: 9100\n",
    "Episode 227\tAverage Score: 0.51\tScore: 2.70\tAverage Timesteps: 197.99\tTimesteps: 1000\n",
    "Environment solved in 227 episodes!\tAverage Score: 0.51\n",
    "Episode 299\tAverage Score: 1.34\tScore: 2.60\tAverage Timesteps: 515.75\tTimesteps: 1000"
   ]
  }
 ],
 "metadata": {
  "kernelspec": {
   "display_name": "Python 3",
   "language": "python",
   "name": "python3"
  },
  "language_info": {
   "codemirror_mode": {
    "name": "ipython",
    "version": 3
   },
   "file_extension": ".py",
   "mimetype": "text/x-python",
   "name": "python",
   "nbconvert_exporter": "python",
   "pygments_lexer": "ipython3",
   "version": "3.6.3"
  }
 },
 "nbformat": 4,
 "nbformat_minor": 2
}
